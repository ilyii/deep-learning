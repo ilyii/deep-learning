{
 "cells": [
  {
   "cell_type": "code",
   "execution_count": 54,
   "metadata": {},
   "outputs": [],
   "source": [
    "import os\n",
    "import random\n",
    "import numpy as np\n",
    "import pandas as pd\n",
    "import matplotlib.pyplot as plt\n",
    "\n",
    "import torch\n",
    "import torch.nn as nn\n",
    "from torch.utils.data import DataLoader, Dataset\n",
    "import torch.optim as optim\n",
    "import torch.nn.functional as F\n",
    "\n",
    "import torchvision "
   ]
  },
  {
   "cell_type": "code",
   "execution_count": 55,
   "metadata": {},
   "outputs": [],
   "source": [
    "SEED = 0\n",
    "DATAPATH = \"data/mnist\"\n",
    "OUTPATH = \"output/01\"\n",
    "DEVICE = torch.device(\"cuda\" if torch.cuda.is_available() else \"cpu\")"
   ]
  },
  {
   "cell_type": "code",
   "execution_count": 56,
   "metadata": {},
   "outputs": [],
   "source": [
    "os.makedirs(OUTPATH, exist_ok=True)"
   ]
  },
  {
   "cell_type": "code",
   "execution_count": 57,
   "metadata": {},
   "outputs": [],
   "source": [
    "n_epochs = 10\n",
    "\n",
    "batch_size_train = 64\n",
    "batch_size_test = 1000\n",
    "learning_rate = 0.01\n",
    "momentum = 0.5\n",
    "val_freq = 1\n",
    "\n",
    "in_dim = 784 #28*28 \n",
    "hidden_dim = 100\n",
    "out_dim = 10\n"
   ]
  },
  {
   "cell_type": "code",
   "execution_count": 58,
   "metadata": {},
   "outputs": [],
   "source": [
    "def set_seed(seed):\n",
    "    np.random.seed(seed)\n",
    "    torch.manual_seed(seed)"
   ]
  },
  {
   "cell_type": "code",
   "execution_count": 59,
   "metadata": {},
   "outputs": [],
   "source": [
    "transform = torchvision.transforms.Compose([\n",
    "                torchvision.transforms.ToTensor(),\n",
    "                torchvision.transforms.Normalize((0.1307,), (0.3081,))\n",
    "                ])"
   ]
  },
  {
   "cell_type": "code",
   "execution_count": 60,
   "metadata": {},
   "outputs": [],
   "source": [
    "class MNISTDataset(Dataset):\n",
    "    def __init__(self, root, transform=None):\n",
    "        self.root = root\n",
    "        self.transform = transform\n",
    "        self.data = pd.read_csv(os.path.join(root))\n",
    "    \n",
    "    def __len__(self):\n",
    "        return len(self.data)\n",
    "    \n",
    "    def __getitem__(self, idx):\n",
    "        img = self.data.iloc[idx, 1:].values.astype(np.float32).reshape(28, 28)\n",
    "        label = self.data.iloc[idx, 0]\n",
    "        \n",
    "        if self.transform:\n",
    "            img = self.transform(img)\n",
    "        return img, label"
   ]
  },
  {
   "cell_type": "code",
   "execution_count": 61,
   "metadata": {},
   "outputs": [],
   "source": [
    "# dataset_train = MNISTDataset(os.path.join(DATAPATH, \"train.csv\"))\n",
    "# dataset_test = MNISTDataset(os.path.join(DATAPATH, \"test.csv\"))\n",
    "\n",
    "# data_loader_train = DataLoader(dataset_train, batch_size=batch_size_train, shuffle=True)\n",
    "# data_loader_test = DataLoader(dataset_test, batch_size=batch_size_test, shuffle=False)\n",
    "\n",
    "dataset_train =   torchvision.datasets.MNIST('/files/', train=True, download=True,\n",
    "                             transform=torchvision.transforms.Compose([\n",
    "                               torchvision.transforms.ToTensor(),\n",
    "                               torchvision.transforms.Normalize(\n",
    "                                 (0.1307,), (0.3081,))\n",
    "                             ]))\n",
    "\n",
    "data_loader_train = torch.utils.data.DataLoader(dataset_train,\n",
    "  batch_size=batch_size_train, shuffle=True)\n",
    "\n",
    "\n",
    "dataset_test =  torchvision.datasets.MNIST('/files/', train=False, download=True,\n",
    "                             transform=torchvision.transforms.Compose([\n",
    "                               torchvision.transforms.ToTensor(),\n",
    "                               torchvision.transforms.Normalize(\n",
    "                                 (0.1307,), (0.3081,))\n",
    "                             ]))\n",
    "data_loader_test = torch.utils.data.DataLoader(dataset_test,\n",
    "  batch_size=batch_size_test, shuffle=False)"
   ]
  },
  {
   "cell_type": "code",
   "execution_count": 62,
   "metadata": {},
   "outputs": [
    {
     "data": {
      "image/png": "[encoded data removed]",
      "text/plain": [
       "<Figure size 1500x500 with 9 Axes>"
      ]
     },
     "metadata": {},
     "output_type": "display_data"
    }
   ],
   "source": [
    "fig = plt.figure(figsize=(15, 5))\n",
    "\n",
    "\n",
    "for i in range(n:=9):\n",
    "    idx = random.randint(0, len(dataset_train))\n",
    "    plt.subplot(1,n,i+1)\n",
    "    plt.imshow(dataset_train[idx][0].squeeze(), cmap='gray')\n",
    "    plt.title(f\"{dataset_train[idx][1]}\")\n",
    "\n",
    "    plt.tight_layout()\n",
    "    plt.axis('off')"
   ]
  },
  {
   "cell_type": "code",
   "execution_count": 63,
   "metadata": {},
   "outputs": [],
   "source": [
    "class FeedForwardNN(nn.Module):\n",
    "  def __init__(self, in_dim, hidden_dim, out_dim):\n",
    "    super().__init__()\n",
    "    self.layer1 = torch.nn.Linear(in_dim, hidden_dim)\n",
    "    self.layer2 = torch.nn.Linear(hidden_dim, out_dim)\n",
    "\n",
    "  def forward(self, x):\n",
    "    x = F.relu(self.layer1(x))\n",
    "    return F.log_softmax(self.layer2(x), dim=1)"
   ]
  },
  {
   "cell_type": "code",
   "execution_count": 64,
   "metadata": {},
   "outputs": [
    {
     "data": {
      "text/plain": [
       "FeedForwardNN(\n",
       "  (layer1): Linear(in_features=784, out_features=100, bias=True)\n",
       "  (layer2): Linear(in_features=100, out_features=10, bias=True)\n",
       ")"
      ]
     },
     "execution_count": 64,
     "metadata": {},
     "output_type": "execute_result"
    }
   ],
   "source": [
    "model = FeedForwardNN(in_dim, hidden_dim, out_dim)\n",
    "model.to(DEVICE)"
   ]
  },
  {
   "cell_type": "code",
   "execution_count": 65,
   "metadata": {},
   "outputs": [],
   "source": [
    "optimizer = optim.SGD(model.parameters(), lr=learning_rate, momentum=momentum)\n",
    "criterion = nn.NLLLoss()"
   ]
  },
  {
   "cell_type": "code",
   "execution_count": 66,
   "metadata": {},
   "outputs": [],
   "source": [
    "train_stats = {\n",
    "    \"step\": [],\n",
    "    \"epoch_loss\": [],\n",
    "    \"iter_loss\": [],\n",
    "}   \n",
    "\n",
    "test_stats = {\n",
    "    \"step\": [],\n",
    "    \"epoch_loss\": [],\n",
    "    \"iter_loss\": [],\n",
    "    \"tp\": [],\n",
    "}"
   ]
  },
  {
   "cell_type": "code",
   "execution_count": 67,
   "metadata": {},
   "outputs": [
    {
     "name": "stdout",
     "output_type": "stream",
     "text": [
      "[TRAIN] Epoch: 0/10, Loss: 0.4513\n",
      "[VAL] Epoch: 0/10, Loss: 0.2671\n",
      "[TRAIN] Epoch: 1/10, Loss: 0.2430\n",
      "[VAL] Epoch: 1/10, Loss: 0.2075\n",
      "[TRAIN] Epoch: 2/10, Loss: 0.1912\n",
      "[VAL] Epoch: 2/10, Loss: 0.1709\n",
      "[TRAIN] Epoch: 3/10, Loss: 0.1583\n",
      "[VAL] Epoch: 3/10, Loss: 0.1451\n",
      "[TRAIN] Epoch: 4/10, Loss: 0.1357\n",
      "[VAL] Epoch: 4/10, Loss: 0.1299\n",
      "[TRAIN] Epoch: 5/10, Loss: 0.1191\n",
      "[VAL] Epoch: 5/10, Loss: 0.1179\n",
      "[TRAIN] Epoch: 6/10, Loss: 0.1062\n",
      "[VAL] Epoch: 6/10, Loss: 0.1062\n",
      "[TRAIN] Epoch: 7/10, Loss: 0.0956\n",
      "[VAL] Epoch: 7/10, Loss: 0.1017\n",
      "[TRAIN] Epoch: 8/10, Loss: 0.0873\n",
      "[VAL] Epoch: 8/10, Loss: 0.0940\n",
      "[TRAIN] Epoch: 9/10, Loss: 0.0801\n",
      "[VAL] Epoch: 9/10, Loss: 0.0917\n",
      "Finished Training.\n"
     ]
    }
   ],
   "source": [
    "model.train()\n",
    "for epoch in range(n_epochs):\n",
    "    train_loss = 0.0\n",
    "    for idx, data in enumerate(data_loader_train):\n",
    "        img, label = data\n",
    "        img.to(DEVICE)\n",
    "        label.to(DEVICE)\n",
    "\n",
    "        img = img.view(-1, 28*28)\n",
    "        img, label = img.to(DEVICE), label.to(DEVICE)\n",
    "\n",
    "        optimizer.zero_grad()\n",
    "\n",
    "        output = model(img)\n",
    "        loss = criterion(output, label)\n",
    "        train_loss += loss.item()\n",
    "        loss.backward()\n",
    "        optimizer.step()\n",
    "\n",
    "        train_stats[\"step\"].append(epoch * len(data_loader_train) + idx)\n",
    "        train_stats[\"iter_loss\"].append(loss.item())\n",
    "\n",
    "\n",
    "    train_loss /= len(data_loader_train)\n",
    "    print(f\"[TRAIN] Epoch: {epoch}/{n_epochs}, Loss: {train_loss:.4f}\")\n",
    "    if epoch % val_freq == 0:\n",
    "        model.eval()\n",
    "        with torch.no_grad():\n",
    "            val_loss = 0.0\n",
    "            for idx, data in enumerate(data_loader_test):\n",
    "                img, label = data\n",
    "                img.to(DEVICE)\n",
    "                label.to(DEVICE)\n",
    "\n",
    "                img = img.view(-1, 28*28)\n",
    "                img, label = img.to(DEVICE), label.to(DEVICE)\n",
    "\n",
    "                output = model(img)\n",
    "                loss = criterion(output, label)\n",
    "                val_loss += loss.item()\n",
    "\n",
    "                test_stats[\"iter_loss\"].append(loss.item())\n",
    "\n",
    "                _, predicted = torch.max(output, 1)\n",
    "                tp = (predicted == label).sum().item()\n",
    "\n",
    "                test_stats[\"step\"].append(epoch * len(data_loader_test) + idx)\n",
    "                test_stats[\"tp\"].append(tp)\n",
    "            \n",
    "            val_loss /= len(data_loader_test)\n",
    "            print(f\"[VAL] Epoch: {epoch}/{n_epochs}, Loss: {val_loss:.4f}\")\n",
    "        model.train()\n",
    "\n",
    "    # Save\n",
    "    if epoch == 0 or train_loss < min(train_stats[\"epoch_loss\"]):\n",
    "        torch.save(model.state_dict(), os.path.join(OUTPATH, \"best.pt\"))\n",
    "    torch.save(model.state_dict(), os.path.join(OUTPATH, \"last.pt\"))\n",
    "\n",
    "    train_stats[\"epoch_loss\"].append(train_loss)\n",
    "    test_stats[\"epoch_loss\"].append(val_loss)\n",
    "\n",
    "print(\"Finished Training.\")"
   ]
  },
  {
   "cell_type": "code",
   "execution_count": 69,
   "metadata": {},
   "outputs": [
    {
     "data": {
      "image/png": "[encoded data removed]",
      "text/plain": [
       "<Figure size 1000x500 with 1 Axes>"
      ]
     },
     "metadata": {},
     "output_type": "display_data"
    },
    {
     "name": "stdout",
     "output_type": "stream",
     "text": [
      "Best model loss: 0.0800664626490841 at epoch 9\n",
      "Accuracy: 9.5864\n"
     ]
    }
   ],
   "source": [
    "fig = plt.figure(figsize=(10, 5))\n",
    "# plt.plot(train_stats[\"epoch_loss\"], label=\"train\")\n",
    "# plt.plot(test_stats[\"epoch_loss\"], label=\"test\")\n",
    "plt.plot(train_stats[\"iter_loss\"], label=\"train_iter\", alpha=0.5)\n",
    "# plt.plot(test_stats[\"iter_loss\"], label=\"test_iter\", alpha=0.5)\n",
    "plt.xlabel(\"Epoch\")\n",
    "plt.ylabel(\"Loss\")\n",
    "plt.legend()\n",
    "plt.show()\n",
    "\n",
    "print(f\"Best model loss: {min(train_stats['epoch_loss'])} at epoch {np.argmin(train_stats['epoch_loss'])}\")\n",
    "print(f'Accuracy: {np.sum(test_stats[\"tp\"])/len(dataset_test)}')\n"
   ]
  }
 ],
 "metadata": {
  "kernelspec": {
   "display_name": "Python 3",
   "language": "python",
   "name": "python3"
  },
  "language_info": {
   "codemirror_mode": {
    "name": "ipython",
    "version": 3
   },
   "file_extension": ".py",
   "mimetype": "text/x-python",
   "name": "python",
   "nbconvert_exporter": "python",
   "pygments_lexer": "ipython3",
   "version": "3.11.6"
  }
 },
 "nbformat": 4,
 "nbformat_minor": 2
}
